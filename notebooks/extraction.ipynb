{
 "cells": [
  {
   "cell_type": "code",
   "execution_count": null,
   "id": "c4b7ec38-acaa-40a8-bc8f-00020030e4eb",
   "metadata": {},
   "outputs": [],
   "source": [
    "#!pip install pandas requests tqdm kaggle beautifulsoup4 lxml scikit-learn\n"
   ]
  },
  {
   "cell_type": "code",
   "execution_count": null,
   "id": "84d6984d-0f4b-48ed-a118-f0b98415aadd",
   "metadata": {},
   "outputs": [],
   "source": [
    "import requests, os\n",
    "\n",
    "ARTICLE_ID = \"25432108\"   # Seven Phishing Email Datasets\n",
    "OUTDIR = \"figshare_files\"\n",
    "os.makedirs(OUTDIR, exist_ok=True)\n",
    "\n",
    "url = f\"https://figshare.com/ndownloader/articles/{ARTICLE_ID}/versions/1\"\n",
    "response = requests.get(url, stream=True)\n",
    "\n",
    "fname = os.path.join(OUTDIR, \"Seven_Phishing_Email_Datasets.zip\")\n",
    "with open(fname, \"wb\") as fd:\n",
    "    for chunk in response.iter_content(chunk_size=8192):\n",
    "        if chunk:\n",
    "            fd.write(chunk)\n",
    "\n",
    "print(\"Downloaded:\", fname)\n"
   ]
  },
  {
   "cell_type": "code",
   "execution_count": null,
   "id": "f02d2678-cab9-4d10-a45f-346e90034032",
   "metadata": {},
   "outputs": [],
   "source": []
  }
 ],
 "metadata": {
  "kernelspec": {
   "display_name": "Python 3 (ipykernel)",
   "language": "python",
   "name": "python3"
  },
  "language_info": {
   "codemirror_mode": {
    "name": "ipython",
    "version": 3
   },
   "file_extension": ".py",
   "mimetype": "text/x-python",
   "name": "python",
   "nbconvert_exporter": "python",
   "pygments_lexer": "ipython3",
   "version": "3.12.7"
  }
 },
 "nbformat": 4,
 "nbformat_minor": 5
}
